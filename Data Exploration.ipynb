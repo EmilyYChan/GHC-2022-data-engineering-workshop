{
 "cells": [
  {
   "cell_type": "markdown",
   "id": "efc8b195",
   "metadata": {},
   "source": [
    "### Twitter API\n",
    "Search for recent tweets mentioning company"
   ]
  },
  {
   "cell_type": "code",
   "execution_count": null,
   "id": "c6152e7c",
   "metadata": {},
   "outputs": [],
   "source": []
  },
  {
   "cell_type": "markdown",
   "id": "73704700",
   "metadata": {},
   "source": [
    "### Google News API\n",
    "https://rapidapi.com/blog/google-news-api-python/"
   ]
  },
  {
   "cell_type": "code",
   "execution_count": null,
   "id": "c016fa52",
   "metadata": {},
   "outputs": [],
   "source": []
  },
  {
   "cell_type": "markdown",
   "id": "e132137a",
   "metadata": {},
   "source": [
    "### Yahoo Finance\n",
    "Scrape ticker price"
   ]
  },
  {
   "cell_type": "code",
   "execution_count": null,
   "id": "e17a1576",
   "metadata": {},
   "outputs": [],
   "source": []
  },
  {
   "cell_type": "markdown",
   "id": "b1c28f01",
   "metadata": {},
   "source": [
    "### Wikipedia API\n",
    "https://pypi.org/project/Wikipedia-API/\n",
    "\n",
    "Summary: \n",
    "\n",
    " T. Rowe Price Group, Inc. is an American publicly owned global investment management firm that offers funds, advisory services, account management, and retirement plans and services for individuals, institutions, and financial intermediaries. The firm has assets under management of more than $1.6 trillion and annual revenues of $6.2 billion as of 2020, placing it 447 on the Fortune 500 list of the largest U.S. companies. Headquartered at 100 East Pratt Street in Baltimore, Maryland, it has 5,000 employees in Baltimore and 16 international offices serve clients in 47 countries around the world.The firm was founded in 1937 by Thomas Rowe Price, Jr. who is best known for developing the growth stock philosophy of investing. As of 2019, the company is focused on active management after strategically deciding against a major initiative in passive investment.Consistently ranked among the world's top asset managers, T. Rowe Price was named one of the best places to work in money management by Pensions&Investments and was one of Fortune's most admired companies in 2020."
   ]
  },
  {
   "cell_type": "code",
   "execution_count": 1,
   "id": "376a25db",
   "metadata": {},
   "outputs": [
    {
     "ename": "ModuleNotFoundError",
     "evalue": "No module named 'certifi'",
     "output_type": "error",
     "traceback": [
      "\u001b[0;31m---------------------------------------------------------------------------\u001b[0m",
      "\u001b[0;31mModuleNotFoundError\u001b[0m                       Traceback (most recent call last)",
      "\u001b[1;32m/Users/jl/Documents/Repos/GHC-2022-data-engineering-workshop/Data Exploration.ipynb Cell 4\u001b[0m in \u001b[0;36m<cell line: 2>\u001b[0;34m()\u001b[0m\n\u001b[1;32m      <a href='vscode-notebook-cell:/Users/jl/Documents/Repos/GHC-2022-data-engineering-workshop/Data%20Exploration.ipynb#W3sZmlsZQ%3D%3D?line=0'>1</a>\u001b[0m \u001b[39m#!pip3 install wikipedia-api\u001b[39;00m\n\u001b[0;32m----> <a href='vscode-notebook-cell:/Users/jl/Documents/Repos/GHC-2022-data-engineering-workshop/Data%20Exploration.ipynb#W3sZmlsZQ%3D%3D?line=1'>2</a>\u001b[0m \u001b[39mimport\u001b[39;00m \u001b[39mwikipediaapi\u001b[39;00m\n\u001b[1;32m      <a href='vscode-notebook-cell:/Users/jl/Documents/Repos/GHC-2022-data-engineering-workshop/Data%20Exploration.ipynb#W3sZmlsZQ%3D%3D?line=3'>4</a>\u001b[0m company_name \u001b[39m=\u001b[39m \u001b[39m'\u001b[39m\u001b[39mT. Rowe Price\u001b[39m\u001b[39m'\u001b[39m\n\u001b[1;32m      <a href='vscode-notebook-cell:/Users/jl/Documents/Repos/GHC-2022-data-engineering-workshop/Data%20Exploration.ipynb#W3sZmlsZQ%3D%3D?line=5'>6</a>\u001b[0m wiki \u001b[39m=\u001b[39m wikipediaapi\u001b[39m.\u001b[39mWikipedia(\u001b[39m'\u001b[39m\u001b[39men\u001b[39m\u001b[39m'\u001b[39m)\n",
      "File \u001b[0;32m~/Library/Python/3.8/lib/python/site-packages/wikipediaapi/__init__.py:15\u001b[0m, in \u001b[0;36m<module>\u001b[0;34m\u001b[0m\n\u001b[1;32m     12\u001b[0m \u001b[39mfrom\u001b[39;00m \u001b[39menum\u001b[39;00m \u001b[39mimport\u001b[39;00m IntEnum\n\u001b[1;32m     13\u001b[0m \u001b[39mfrom\u001b[39;00m \u001b[39mtyping\u001b[39;00m \u001b[39mimport\u001b[39;00m Union\n\u001b[0;32m---> 15\u001b[0m \u001b[39mimport\u001b[39;00m \u001b[39mrequests\u001b[39;00m\n\u001b[1;32m     16\u001b[0m \u001b[39mfrom\u001b[39;00m \u001b[39mtyping\u001b[39;00m \u001b[39mimport\u001b[39;00m Dict, Any, List, Optional\n\u001b[1;32m     17\u001b[0m \u001b[39mfrom\u001b[39;00m \u001b[39murllib\u001b[39;00m \u001b[39mimport\u001b[39;00m parse\n",
      "File \u001b[0;32m~/Library/Python/3.8/lib/python/site-packages/requests/__init__.py:147\u001b[0m, in \u001b[0;36m<module>\u001b[0;34m\u001b[0m\n\u001b[1;32m    144\u001b[0m \u001b[39mimport\u001b[39;00m \u001b[39mlogging\u001b[39;00m\n\u001b[1;32m    145\u001b[0m \u001b[39mfrom\u001b[39;00m \u001b[39mlogging\u001b[39;00m \u001b[39mimport\u001b[39;00m NullHandler\n\u001b[0;32m--> 147\u001b[0m \u001b[39mfrom\u001b[39;00m \u001b[39m.\u001b[39;00m \u001b[39mimport\u001b[39;00m packages, utils\n\u001b[1;32m    148\u001b[0m \u001b[39mfrom\u001b[39;00m \u001b[39m.\u001b[39;00m\u001b[39m__version__\u001b[39;00m \u001b[39mimport\u001b[39;00m (\n\u001b[1;32m    149\u001b[0m     __author__,\n\u001b[1;32m    150\u001b[0m     __author_email__,\n\u001b[0;32m   (...)\u001b[0m\n\u001b[1;32m    158\u001b[0m     __version__,\n\u001b[1;32m    159\u001b[0m )\n\u001b[1;32m    160\u001b[0m \u001b[39mfrom\u001b[39;00m \u001b[39m.\u001b[39;00m\u001b[39mapi\u001b[39;00m \u001b[39mimport\u001b[39;00m delete, get, head, options, patch, post, put, request\n",
      "File \u001b[0;32m~/Library/Python/3.8/lib/python/site-packages/requests/utils.py:24\u001b[0m, in \u001b[0;36m<module>\u001b[0;34m\u001b[0m\n\u001b[1;32m     20\u001b[0m \u001b[39mfrom\u001b[39;00m \u001b[39mcollections\u001b[39;00m \u001b[39mimport\u001b[39;00m OrderedDict\n\u001b[1;32m     22\u001b[0m \u001b[39mfrom\u001b[39;00m \u001b[39murllib3\u001b[39;00m\u001b[39m.\u001b[39;00m\u001b[39mutil\u001b[39;00m \u001b[39mimport\u001b[39;00m make_headers, parse_url\n\u001b[0;32m---> 24\u001b[0m \u001b[39mfrom\u001b[39;00m \u001b[39m.\u001b[39;00m \u001b[39mimport\u001b[39;00m certs\n\u001b[1;32m     25\u001b[0m \u001b[39mfrom\u001b[39;00m \u001b[39m.\u001b[39;00m\u001b[39m__version__\u001b[39;00m \u001b[39mimport\u001b[39;00m __version__\n\u001b[1;32m     27\u001b[0m \u001b[39m# to_native_string is unused here, but imported here for backwards compatibility\u001b[39;00m\n",
      "File \u001b[0;32m~/Library/Python/3.8/lib/python/site-packages/requests/certs.py:14\u001b[0m, in \u001b[0;36m<module>\u001b[0;34m\u001b[0m\n\u001b[1;32m      1\u001b[0m \u001b[39m#!/usr/bin/env python\u001b[39;00m\n\u001b[1;32m      3\u001b[0m \u001b[39m\"\"\"\u001b[39;00m\n\u001b[1;32m      4\u001b[0m \u001b[39mrequests.certs\u001b[39;00m\n\u001b[1;32m      5\u001b[0m \u001b[39m~~~~~~~~~~~~~~\u001b[39;00m\n\u001b[0;32m   (...)\u001b[0m\n\u001b[1;32m     12\u001b[0m \u001b[39mpackaged CA bundle.\u001b[39;00m\n\u001b[1;32m     13\u001b[0m \u001b[39m\"\"\"\u001b[39;00m\n\u001b[0;32m---> 14\u001b[0m \u001b[39mfrom\u001b[39;00m \u001b[39mcertifi\u001b[39;00m \u001b[39mimport\u001b[39;00m where\n\u001b[1;32m     16\u001b[0m \u001b[39mif\u001b[39;00m \u001b[39m__name__\u001b[39m \u001b[39m==\u001b[39m \u001b[39m\"\u001b[39m\u001b[39m__main__\u001b[39m\u001b[39m\"\u001b[39m:\n\u001b[1;32m     17\u001b[0m     \u001b[39mprint\u001b[39m(where())\n",
      "\u001b[0;31mModuleNotFoundError\u001b[0m: No module named 'certifi'"
     ]
    }
   ],
   "source": [
    "#!pip3 install wikipedia-api\n",
    "import wikipediaapi\n",
    "\n",
    "company_name = 'T. Rowe Price'\n",
    "\n",
    "wiki = wikipediaapi.Wikipedia('en')\n",
    "page = wiki.page(company_name) # error handling\n",
    "print(\"Summary: \\n\", page.summary)\n",
    "print(\"Further reading: \\n\", page.fullurl)"
   ]
  },
  {
   "cell_type": "code",
   "execution_count": null,
   "id": "953867cd",
   "metadata": {},
   "outputs": [],
   "source": []
  }
 ],
 "metadata": {
  "kernelspec": {
   "display_name": "Python 3.8.9 64-bit",
   "language": "python",
   "name": "python3"
  },
  "language_info": {
   "codemirror_mode": {
    "name": "ipython",
    "version": 3
   },
   "file_extension": ".py",
   "mimetype": "text/x-python",
   "name": "python",
   "nbconvert_exporter": "python",
   "pygments_lexer": "ipython3",
   "version": "3.8.9"
  },
  "vscode": {
   "interpreter": {
    "hash": "31f2aee4e71d21fbe5cf8b01ff0e069b9275f58929596ceb00d14d90e3e16cd6"
   }
  }
 },
 "nbformat": 4,
 "nbformat_minor": 5
}
