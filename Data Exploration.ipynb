{
 "cells": [
  {
   "cell_type": "markdown",
   "id": "ffc4c2ed",
   "metadata": {},
   "source": [
    "### Get company name from ticker\n",
    "ask rivka/lara"
   ]
  },
  {
   "cell_type": "markdown",
   "id": "efc8b195",
   "metadata": {},
   "source": [
    "### Twitter API\n",
    "Search for recent tweets mentioning company"
   ]
  },
  {
   "cell_type": "code",
   "execution_count": null,
   "id": "c6152e7c",
   "metadata": {},
   "outputs": [],
   "source": []
  },
  {
   "cell_type": "markdown",
   "id": "73704700",
   "metadata": {},
   "source": [
    "### Google News API\n",
    "https://rapidapi.com/blog/google-news-api-python/"
   ]
  },
  {
   "cell_type": "code",
   "execution_count": null,
   "id": "c016fa52",
   "metadata": {},
   "outputs": [],
   "source": []
  },
  {
   "cell_type": "markdown",
   "id": "e132137a",
   "metadata": {},
   "source": [
    "### Yahoo Finance\n",
    "Scrape ticker price, chart for the day"
   ]
  },
  {
   "cell_type": "code",
   "execution_count": 12,
   "id": "e17a1576",
   "metadata": {},
   "outputs": [
    {
     "name": "stdout",
     "output_type": "stream",
     "text": [
      "Market price:  132.26 \n",
      "After hours trading price:  132.72\n"
     ]
    }
   ],
   "source": [
    "import requests\n",
    "from bs4 import BeautifulSoup\n",
    "\n",
    "company_ticker = \"TROW\"\n",
    "\n",
    "page = requests.get(f'https://finance.yahoo.com/quote/{company_ticker}')\n",
    "soup = BeautifulSoup(page.text, 'html.parser')\n",
    "\n",
    "market_price = soup.find(name=\"fin-streamer\", attrs={\"data-symbol\": company_ticker, \"data-field\":\"regularMarketPrice\"})\n",
    "after_hours_trading_price = soup.find(name=\"fin-streamer\", attrs={\"data-symbol\": company_ticker, \"data-field\":\"postMarketPrice\"})\n",
    "print(\"Market price: \", market_price.text, \"\\nAfter hours trading price: \", after_hours_trading_price.text)\n",
    "\n",
    "\n",
    "# last_links = soup.find(class_='AlphaNav')\n",
    "# last_links.decompose()\n",
    "# name.contents[0]\n",
    "# name.prettify())"
   ]
  },
  {
   "cell_type": "markdown",
   "id": "b1c28f01",
   "metadata": {},
   "source": [
    "### Wikipedia API\n",
    "https://pypi.org/project/Wikipedia-API/"
   ]
  },
  {
   "cell_type": "code",
   "execution_count": 2,
   "id": "376a25db",
   "metadata": {},
   "outputs": [
    {
     "name": "stdout",
     "output_type": "stream",
     "text": [
      "Summary: \n",
      " T. Rowe Price Group, Inc. is an American publicly owned global investment management firm that offers funds, advisory services, account management, and retirement plans and services for individuals, institutions, and financial intermediaries. The firm has assets under management of more than $1.6 trillion and annual revenues of $6.2 billion as of 2020, placing it 447 on the Fortune 500 list of the largest U.S. companies. Headquartered at 100 East Pratt Street in Baltimore, Maryland, it has 5,000 employees in Baltimore and 16 international offices serve clients in 47 countries around the world.The firm was founded in 1937 by Thomas Rowe Price, Jr. who is best known for developing the growth stock philosophy of investing. As of 2019, the company is focused on active management after strategically deciding against a major initiative in passive investment.Consistently ranked among the world's top asset managers, T. Rowe Price was named one of the best places to work in money management by Pensions&Investments and was one of Fortune's most admired companies in 2020. \n",
      "\n",
      "Further reading: \n",
      " https://en.wikipedia.org/wiki/T._Rowe_Price\n"
     ]
    }
   ],
   "source": [
    "import wikipediaapi\n",
    "\n",
    "company_name = 'T. Rowe Price'\n",
    "\n",
    "wiki = wikipediaapi.Wikipedia('en')\n",
    "page = wiki.page(company_name) # error handling\n",
    "print(\"Summary: \\n\", page.summary, \"\\n\")\n",
    "print(\"Further reading: \\n\", page.fullurl)"
   ]
  },
  {
   "cell_type": "code",
   "execution_count": null,
   "id": "953867cd",
   "metadata": {},
   "outputs": [],
   "source": []
  }
 ],
 "metadata": {
  "kernelspec": {
   "display_name": "Python 3.8.3 ('venv': venv)",
   "language": "python",
   "name": "python3"
  },
  "language_info": {
   "codemirror_mode": {
    "name": "ipython",
    "version": 3
   },
   "file_extension": ".py",
   "mimetype": "text/x-python",
   "name": "python",
   "nbconvert_exporter": "python",
   "pygments_lexer": "ipython3",
   "version": "3.8.3"
  },
  "vscode": {
   "interpreter": {
    "hash": "1c9d9ee7f3918883f5e2a73aeb78f4384156cad52fdb85b22fafcff091e1602b"
   }
  }
 },
 "nbformat": 4,
 "nbformat_minor": 5
}
