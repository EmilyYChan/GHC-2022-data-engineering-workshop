{
 "cells": [
  {
   "cell_type": "markdown",
   "id": "efc8b195",
   "metadata": {},
   "source": [
    "### Twitter API\n",
    "Search for recent tweets mentioning company"
   ]
  },
  {
   "cell_type": "code",
   "execution_count": null,
   "id": "c6152e7c",
   "metadata": {},
   "outputs": [],
   "source": []
  },
  {
   "cell_type": "markdown",
   "id": "73704700",
   "metadata": {},
   "source": [
    "### Google News API\n",
    "https://rapidapi.com/blog/google-news-api-python/"
   ]
  },
  {
   "cell_type": "code",
   "execution_count": null,
   "id": "c016fa52",
   "metadata": {},
   "outputs": [],
   "source": []
  },
  {
   "cell_type": "markdown",
   "id": "e132137a",
   "metadata": {},
   "source": [
    "### Yahoo Finance\n",
    "Scrape ticker price, chart for the day"
   ]
  },
  {
   "cell_type": "code",
   "execution_count": 18,
   "id": "e17a1576",
   "metadata": {},
   "outputs": [
    {
     "name": "stdout",
     "output_type": "stream",
     "text": [
      "Market price:  126.42 \n",
      "After hours trading price:  126.41\n"
     ]
    }
   ],
   "source": [
    "import requests\n",
    "from bs4 import BeautifulSoup\n",
    "\n",
    "company_ticker = \"TROW\"\n",
    "\n",
    "yahoo_finance_page = requests.get(f'https://finance.yahoo.com/quote/{company_ticker}')\n",
    "soup = BeautifulSoup(yahoo_finance_page.text, 'html.parser')\n",
    "\n",
    "market_price = soup.find(name=\"fin-streamer\", attrs={\"data-symbol\": company_ticker, \"data-field\":\"regularMarketPrice\"})\n",
    "after_hours_trading_price = soup.find(name=\"fin-streamer\", attrs={\"data-symbol\": company_ticker, \"data-field\":\"postMarketPrice\"})\n",
    "print(\"Market price: \", market_price.text, \"\\nAfter hours trading price: \", after_hours_trading_price.text)"
   ]
  },
  {
   "cell_type": "code",
   "execution_count": 22,
   "id": "2906788f",
   "metadata": {},
   "outputs": [],
   "source": [
    "# save response as html\n",
    "with open('yahoo_finance.html', 'w') as file:\n",
    "    file.write(yahoo_finance_page.text)"
   ]
  },
  {
   "cell_type": "code",
   "execution_count": 23,
   "id": "60563292",
   "metadata": {},
   "outputs": [],
   "source": [
    "# save response as json\n",
    "with open('yahoo_finance.json', 'wb') as file:\n",
    "    file.write(yahoo_finance_page.content)"
   ]
  },
  {
   "cell_type": "code",
   "execution_count": 35,
   "id": "1b8372b3",
   "metadata": {},
   "outputs": [
    {
     "name": "stdout",
     "output_type": "stream",
     "text": [
      "Daily Volume:  1,619,533 \n",
      "3 Month Average Volume:  1,590,879\n"
     ]
    }
   ],
   "source": [
    "# parse out different info -> ratio of volume to different volume\n",
    "# exceptionally high volume compared to a moving average of volume can reveal euphoria or fear while much lower than average volume can reflect apathy or disinterest\n",
    "yahoo_finance_text = open('yahoo_finance.html', 'r')\n",
    "soup = BeautifulSoup(yahoo_finance_text, 'html.parser') \n",
    "volume = soup.find(name=\"fin-streamer\", attrs={\"data-symbol\": company_ticker, \"data-field\":\"regularMarketVolume\"})\n",
    "avg_volume = soup.find(name=\"td\", attrs={\"data-test\": \"AVERAGE_VOLUME_3MONTH-value\"})\n",
    "print(\"Daily Volume: \", volume.text, \"\\n3 Month Average Volume: \", avg_volume.text)"
   ]
  },
  {
   "cell_type": "code",
   "execution_count": 48,
   "id": "85f5c8ec",
   "metadata": {},
   "outputs": [
    {
     "data": {
      "text/plain": [
       "'Total ESG Risk score17.0Low16th percentile'"
      ]
     },
     "execution_count": 48,
     "metadata": {},
     "output_type": "execute_result"
    }
   ],
   "source": [
    "# esg score\n",
    "ESG_score_component = soup.find(name=\"div\", attrs={\"data-yaft-module\": \"tdv2-applet-miniESGScore\"})\n",
    "ESG_score_component.text"
   ]
  },
  {
   "cell_type": "code",
   "execution_count": 54,
   "id": "83cf5db6",
   "metadata": {},
   "outputs": [
    {
     "name": "stdout",
     "output_type": "stream",
     "text": [
      "['Total ESG Risk score', '17.0', 'Low', '16th percentile']\n"
     ]
    }
   ],
   "source": [
    "import re\n",
    "tags = ESG_score_component.find_all(string=re.compile(r'.*')) #\\d')) # TODO: learn regex\n",
    "print(tags)\n"
   ]
  },
  {
   "cell_type": "markdown",
   "id": "b1c28f01",
   "metadata": {},
   "source": [
    "### Wikipedia API\n",
    "https://pypi.org/project/Wikipedia-API/"
   ]
  },
  {
   "cell_type": "code",
   "execution_count": 14,
   "id": "376a25db",
   "metadata": {},
   "outputs": [
    {
     "name": "stdout",
     "output_type": "stream",
     "text": [
      "Summary: \n",
      " T. Rowe Price Group, Inc. is an American publicly owned global investment management firm that offers funds, advisory services, account management, and retirement plans and services for individuals, institutions, and financial intermediaries. The firm has assets under management of more than $1.6 trillion and annual revenues of $6.2 billion as of 2020, placing it 447 on the Fortune 500 list of the largest U.S. companies. Headquartered at 100 East Pratt Street in Baltimore, Maryland, it has 5,000 employees in Baltimore and 16 international offices serve clients in 47 countries around the world.The firm was founded in 1937 by Thomas Rowe Price, Jr. who is best known for developing the growth stock philosophy of investing. As of 2019, the company is focused on active management after strategically deciding against a major initiative in passive investment.Consistently ranked among the world's top asset managers, T. Rowe Price was named one of the best places to work in money management by Pensions&Investments and was one of Fortune's most admired companies in 2020. \n",
      "\n",
      "Further reading: \n",
      " https://en.wikipedia.org/wiki/T._Rowe_Price\n"
     ]
    }
   ],
   "source": [
    "import wikipediaapi\n",
    "\n",
    "company_name = 'T. Rowe Price'\n",
    "\n",
    "wiki = wikipediaapi.Wikipedia('en')\n",
    "page = wiki.page(company_name) # error handling\n",
    "print(\"Summary: \\n\", page.summary, \"\\n\")\n",
    "print(\"Further reading: \\n\", page.fullurl)"
   ]
  },
  {
   "cell_type": "code",
   "execution_count": 15,
   "id": "450e7bd9",
   "metadata": {},
   "outputs": [
    {
     "name": "stdout",
     "output_type": "stream",
     "text": [
      "<class 'wikipediaapi.WikipediaPage'>\n"
     ]
    }
   ],
   "source": [
    "print(type(page))"
   ]
  },
  {
   "cell_type": "code",
   "execution_count": null,
   "id": "953867cd",
   "metadata": {},
   "outputs": [],
   "source": [
    "# generate chart"
   ]
  }
 ],
 "metadata": {
  "kernelspec": {
   "display_name": "Python 3.8.3 ('venv': venv)",
   "language": "python",
   "name": "python3"
  },
  "language_info": {
   "codemirror_mode": {
    "name": "ipython",
    "version": 3
   },
   "file_extension": ".py",
   "mimetype": "text/x-python",
   "name": "python",
   "nbconvert_exporter": "python",
   "pygments_lexer": "ipython3",
   "version": "3.8.3"
  },
  "vscode": {
   "interpreter": {
    "hash": "1c9d9ee7f3918883f5e2a73aeb78f4384156cad52fdb85b22fafcff091e1602b"
   }
  }
 },
 "nbformat": 4,
 "nbformat_minor": 5
}
