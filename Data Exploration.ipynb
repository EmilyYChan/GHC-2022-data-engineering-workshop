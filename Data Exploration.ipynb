{
 "cells": [
  {
   "cell_type": "markdown",
   "id": "efc8b195",
   "metadata": {},
   "source": [
    "### Twitter API\n",
    "Search for recent tweets mentioning company"
   ]
  },
  {
   "cell_type": "code",
   "execution_count": null,
   "id": "c6152e7c",
   "metadata": {},
   "outputs": [],
   "source": []
  },
  {
   "cell_type": "markdown",
   "id": "73704700",
   "metadata": {},
   "source": [
    "### Google News API\n",
    "https://rapidapi.com/blog/google-news-api-python/"
   ]
  },
  {
   "cell_type": "code",
   "execution_count": null,
   "id": "c016fa52",
   "metadata": {},
   "outputs": [],
   "source": []
  },
  {
   "cell_type": "markdown",
   "id": "e132137a",
   "metadata": {},
   "source": [
    "### Yahoo Finance\n",
    "Scrape ticker price, chart for the day"
   ]
  },
  {
   "cell_type": "code",
   "execution_count": 18,
   "id": "e17a1576",
   "metadata": {},
   "outputs": [
    {
     "name": "stdout",
     "output_type": "stream",
     "text": [
      "Market price:  126.42 \n",
      "After hours trading price:  126.41\n"
     ]
    }
   ],
   "source": [
    "import requests\n",
    "from bs4 import BeautifulSoup\n",
    "\n",
    "company_ticker = \"TROW\"\n",
    "\n",
    "yahoo_finance_page = requests.get(f'https://finance.yahoo.com/quote/{company_ticker}')\n",
    "soup = BeautifulSoup(yahoo_finance_page.text, 'html.parser')\n",
    "\n",
    "market_price = soup.find(name=\"fin-streamer\", attrs={\"data-symbol\": company_ticker, \"data-field\":\"regularMarketPrice\"})\n",
    "after_hours_trading_price = soup.find(name=\"fin-streamer\", attrs={\"data-symbol\": company_ticker, \"data-field\":\"postMarketPrice\"})\n",
    "print(\"Market price: \", market_price.text, \"\\nAfter hours trading price: \", after_hours_trading_price.text)"
   ]
  },
  {
   "cell_type": "code",
   "execution_count": 22,
   "id": "2906788f",
   "metadata": {},
   "outputs": [],
   "source": [
    "# save response as html\n",
    "with open('yahoo_finance.html', 'w') as file:\n",
    "    file.write(yahoo_finance_page.text)"
   ]
  },
  {
   "cell_type": "code",
   "execution_count": 23,
   "id": "60563292",
   "metadata": {},
   "outputs": [],
   "source": [
    "# save response as json\n",
    "with open('yahoo_finance.json', 'wb') as file:\n",
    "    file.write(yahoo_finance_page.content)"
   ]
  },
  {
   "cell_type": "code",
   "execution_count": 35,
   "id": "1b8372b3",
   "metadata": {},
   "outputs": [
    {
     "name": "stdout",
     "output_type": "stream",
     "text": [
      "Daily Volume:  1,619,533 \n",
      "3 Month Average Volume:  1,590,879\n"
     ]
    }
   ],
   "source": [
    "# parse out different info -> ratio of volume to different volume\n",
    "# exceptionally high volume compared to a moving average of volume can reveal euphoria or fear while much lower than average volume can reflect apathy or disinterest\n",
    "yahoo_finance_text = open('yahoo_finance.html', 'r')\n",
    "soup = BeautifulSoup(yahoo_finance_text, 'html.parser') \n",
    "volume = soup.find(name=\"fin-streamer\", attrs={\"data-symbol\": company_ticker, \"data-field\":\"regularMarketVolume\"})\n",
    "avg_volume = soup.find(name=\"td\", attrs={\"data-test\": \"AVERAGE_VOLUME_3MONTH-value\"})\n",
    "print(\"Daily Volume: \", volume.text, \"\\n3 Month Average Volume: \", avg_volume.text)"
   ]
  },
  {
   "cell_type": "code",
   "execution_count": 48,
   "id": "85f5c8ec",
   "metadata": {},
   "outputs": [
    {
     "data": {
      "text/plain": [
       "'Total ESG Risk score17.0Low16th percentile'"
      ]
     },
     "execution_count": 48,
     "metadata": {},
     "output_type": "execute_result"
    }
   ],
   "source": [
    "# esg score\n",
    "ESG_score_component = soup.find(name=\"div\", attrs={\"data-yaft-module\": \"tdv2-applet-miniESGScore\"})\n",
    "ESG_score_component.text"
   ]
  },
  {
   "cell_type": "code",
   "execution_count": 54,
   "id": "83cf5db6",
   "metadata": {},
   "outputs": [
    {
     "name": "stdout",
     "output_type": "stream",
     "text": [
      "['Total ESG Risk score', '17.0', 'Low', '16th percentile']\n"
     ]
    }
   ],
   "source": [
    "import re\n",
    "tags = ESG_score_component.find_all(string=re.compile(r'.*')) #\\d')) # TODO: learn regex\n",
    "print(tags)\n"
   ]
  },
  {
   "cell_type": "markdown",
   "id": "b1c28f01",
   "metadata": {},
   "source": [
    "### Wikipedia API\n",
    "https://pypi.org/project/Wikipedia-API/"
   ]
  },
  {
   "cell_type": "code",
   "execution_count": 8,
   "id": "376a25db",
   "metadata": {},
   "outputs": [
    {
     "name": "stdout",
     "output_type": "stream",
     "text": [
      "Summary: \n",
      " T. Rowe Price Group, Inc. is an American publicly owned global investment management firm that offers funds, advisory services, account management, and retirement plans and services for individuals, institutions, and financial intermediaries. The firm has assets under management of more than $1.6 trillion and annual revenues of $6.2 billion as of 2020, placing it 447 on the Fortune 500 list of the largest U.S. companies. Headquartered at 100 East Pratt Street in Baltimore, Maryland, it has 5,000 employees in Baltimore and 16 international offices serve clients in 47 countries around the world.The firm was founded in 1937 by Thomas Rowe Price, Jr. who is best known for developing the growth stock philosophy of investing. As of 2019, the company is focused on active management after strategically deciding against a major initiative in passive investment.Consistently ranked among the world's top asset managers, T. Rowe Price was named one of the best places to work in money management by Pensions&Investments and was one of Fortune's most admired companies in 2020. \n",
      "\n",
      "Further reading: \n",
      " https://en.wikipedia.org/wiki/T._Rowe_Price\n"
     ]
    }
   ],
   "source": [
    "from wikipediaapi import Wikipedia\n",
    "\n",
    "company_name = 'T. Rowe Price'\n",
    "\n",
    "wiki = Wikipedia('en')\n",
    "wiki_page = wiki.page(company_name) # error handling\n",
    "print(\"Summary: \\n\", wiki_page.summary, \"\\n\")\n",
    "print(\"Further reading: \\n\", wiki_page.fullurl)"
   ]
  },
  {
   "cell_type": "code",
   "execution_count": 2,
   "id": "450e7bd9",
   "metadata": {},
   "outputs": [
    {
     "name": "stdout",
     "output_type": "stream",
     "text": [
      "T. Rowe Price Group, Inc. is an American publicly owned global investment management firm that offers funds, advisory services, account management, and retirement plans and services for individuals, institutions, and financial intermediaries. The firm has assets under management of more than $1.6 trillion and annual revenues of $6.2 billion as of 2020, placing it 447 on the Fortune 500 list of the largest U.S. companies. Headquartered at 100 East Pratt Street in Baltimore, Maryland, it has 5,000 employees in Baltimore and 16 international offices serve clients in 47 countries around the world.The firm was founded in 1937 by Thomas Rowe Price, Jr. who is best known for developing the growth stock philosophy of investing. As of 2019, the company is focused on active management after strategically deciding against a major initiative in passive investment.Consistently ranked among the world's top asset managers, T. Rowe Price was named one of the best places to work in money management by Pensions&Investments and was one of Fortune's most admired companies in 2020.\n",
      "\n",
      "Business philosophy\n",
      "Thomas Rowe Price Jr. started in finance in the 1920s as an entry-level researcher and account manager at Baltimore-area brokerages, but disliked the operating models of sales-oriented firms at the time. When he founded T. Rowe Price & Associates in 1937, his firm diverged from the norm in three major ways: charging fees based on assets under management rather than sales volume, actively managing his clients' accounts strictly as a fiduciary, and investing in growth stocks instead of value stocks. He became well known as the \"father of growth investing\" and was nicknamed the \"Sage of Baltimore\" by Forbes.\n",
      "\n",
      "History\n",
      "1937–1986\n",
      "Thomas Rowe Price, Jr. founded T. Rowe Price & Associates in Baltimore in 1937. The firm was originally headquartered at 10 Light Street and staffed by a small pool of associates, many of whom left Legg Mason's precursor, MacKubin, Legg and Co., along with Price. Initially a very small firm focused on wealth management, and private investment accounts for Baltimore-area families, the company struggled during the Great Depression and World War II before gaining solid footing at the end of the 1940s. By 1950, its clientele grew too large for the staff to manage accounts individually, so the firm incorporated and launched its first mutual fund, the T. Rowe Price Growth Stock Fund.Gaining traction in Baltimore and along the U.S. eastern seaboard, the firm continued a steady expansion of clientele, staff, and geographic reach. By 1960, Price opened a second fund, named the New Horizons Fund, focused on growth investment opportunities, and especially technology firms like Xerox, IBM, and Boeing. In need of more room, the headquarters were moved in 1962 to the new One Charles Center building designed by Ludwig Mies van der Rohe nearby in downtown Baltimore. At the same time, Price began to prepare for retirement, resigning as president of the firm in 1963, delegating some responsibilities, and selling his shares in the company. Despite this, Price maintained an active presence in the firm for several years and urged the opening of the New Era Fund in 1969 as a response to the rapid inflation he predicted would dominate the 1970s. In 1971, the year Price completely retired, T. Rowe Price opened its Fixed Income Division, and began to modernize and diversify its operations.\n",
      "In the 1970s and early 1980s, T. Rowe Price kicked off more assertive growth than before, moving to its current location at 100 East Pratt Street and opening its first international office. In 1979, T. Rowe Price launched a joint venture with British asset manager Robert Fleming & Co. named Rowe Price-Fleming International. The venture, which managed $39 billion at its height in 2000, allowed T. Rowe Price to offer a broader range of services and expertise internationally.\n",
      "\n",
      "1986–2010\n",
      "T. Rowe Price held its initial public offering, valued at nearly $200 million, in 1986. Shortly thereafter, the firm began establishing larger office complexes in the U.S. and research offices around the world, beginning with a Hong Kong office in 1987. Retirement Plan Services were launched in the 1990s alongside additional new services and funds, including mutual funds acquired from other companies such as USF&G. This momentum, and the firm reaching $100 billion assets under management, pushed T. Rowe Price to create an asset management partnership with Sumitomo Bank and Daiwa Securities in Tokyo in 1999, and to purchase 100% interest of the London-based Rowe Price-Fleming International, which was renamed T. Rowe Price International. Also in 1999, T. Rowe Price was added to the S&P 500 Index.T. Rowe Price largely avoided the dot-com bubble of 2000. The Wall Street Journal expressed surprise at the firm's moderation with then-profitable technology stocks just a week before the markets began to crash in March 2000. In 2001, the company launched T. Rowe Price Funds SICAV, domiciled in Luxembourg, for non-U.S. institutional investors and financial intermediaries. Two years later it created target-date retirement funds. In 2010, T. Rowe Price bought a significant interest in Unit Trust of India, India's oldest mutual fund company and one of its five largest. Since 2000, T. Rowe Price has opened global offices in locations ranging from Madrid and Dubai to Stockholm and Sydney.\n",
      "\n",
      "2010–present\n",
      "As of 2019, T. Rowe Price has continued to focus on active management rather than passive management. In the decade from 2010 to 2020, T. Rowe Price increased its assets under management from $400 billion to $1.6 trillion and annual revenues increased 10.2 percent to $6.2 billion over 2019, placing it 447 on the Fortune 500 list of the largest U.S. companies.\n",
      "\n",
      "Awards and recognition\n",
      "2017 Ranked one of the World's Most Admired Companies by Fortune\n",
      "2016 Top Companies for Women Technologists by the Anita Borg Institute Leadership Index\n",
      "2015 P&I Best Places to Work in Money Management by Pension and Investments\n",
      "2015 Best Employers for Healthy Lifestyle by the National Business Group on Health\n",
      "\n",
      "Notable people\n",
      "Board of directors\n",
      "Mark S. Bartlett, Former Managing Partner of Ernst & Young\n",
      "Mary K. Bush, Founder, and President of Bush International LLC\n",
      "Dina Dublon, Former Vice President and Chief Financial Officer of JPMorgan Chase & Co.\n",
      "Dr. Freeman Hrabowski III, President of University of Maryland, Baltimore County\n",
      "Robert F. MacLellan, Chairman of Northleaf Capital Partners\n",
      "Rob Sharps, President, and CEO of T. Rowe Price\n",
      "Olympia Snowe, Former US Senator, founder of Olympia Snowe LLC\n",
      "Robert J. Stevens, Former Chairman and CEO of Lockheed Martin\n",
      "William Stromberg, non-executive Chairman\n",
      "Richard Verma, Former U.S. Ambassador to India, Vice Chairman and Partner of The Asia Group\n",
      "Sandra S. Wijnberg, Executive Adviser at Aquiline Capital Partners LLC\n",
      "Alan D. Wilson, Former President of McCormick & Company\n",
      "\n",
      "Others\n",
      "Eddie C. Brown, former portfolio manager at T. Rowe Price, Founder and President of Brown Capital Management, and noted philanthropist\n",
      "Abby Joseph Cohen, former research director at T. Rowe Price, named Institutional Investor's top strategist in the late 1990s.\n",
      "Roger McNamee, former manager of the T. Rowe Price Science & Technology Fund who since founded the venture capital firm Elevation Partners\n",
      "Mary J. Miller, former director of the firm's Fixed Income Division who left to work for the U.S. Department of the Treasury, becoming Assistant Secretary of the Treasury for Financial Markets, then Under Secretary of the Treasury for Domestic Finance, and finally the Deputy Secretary of the Treasury.\n",
      "Alfred Sommer, former board member of T. Rowe Price and noted epidemiologist at the Johns Hopkins Bloomberg School of Public Health\n",
      "\n",
      "References\n",
      "External links\n",
      "Business data for T. Rowe Price:\n"
     ]
    }
   ],
   "source": [
    "print(wiki_page.text)"
   ]
  },
  {
   "cell_type": "code",
   "execution_count": 4,
   "id": "65bf6cf2",
   "metadata": {},
   "outputs": [],
   "source": [
    "import pickle \n",
    "wiki_file = open('wikipedia.obj', 'wb') \n",
    "pickle.dump(wiki_page, wiki_file)"
   ]
  },
  {
   "cell_type": "code",
   "execution_count": 7,
   "id": "3f997694",
   "metadata": {},
   "outputs": [
    {
     "name": "stdout",
     "output_type": "stream",
     "text": [
      "T. Rowe Price Group, Inc. is an American publicly owned global investment management firm that offers funds, advisory services, account management, and retirement plans and services for individuals, institutions, and financial intermediaries. The firm has assets under management of more than $1.6 trillion and annual revenues of $6.2 billion as of 2020, placing it 447 on the Fortune 500 list of the largest U.S. companies. Headquartered at 100 East Pratt Street in Baltimore, Maryland, it has 5,000 employees in Baltimore and 16 international offices serve clients in 47 countries around the world.The firm was founded in 1937 by Thomas Rowe Price, Jr. who is best known for developing the growth stock philosophy of investing. As of 2019, the company is focused on active management after strategically deciding against a major initiative in passive investment.Consistently ranked among the world's top asset managers, T. Rowe Price was named one of the best places to work in money management by Pensions&Investments and was one of Fortune's most admired companies in 2020.\n"
     ]
    }
   ],
   "source": [
    "import pickle \n",
    "wiki_file = open('wikipedia.obj', 'rb') \n",
    "wiki_page = pickle.load(wiki_file)\n",
    "print(wiki_page.summary)"
   ]
  },
  {
   "cell_type": "code",
   "execution_count": null,
   "id": "953867cd",
   "metadata": {},
   "outputs": [],
   "source": [
    "# generate chart\n"
   ]
  }
 ],
 "metadata": {
  "kernelspec": {
   "display_name": "Python 3.8.3 ('venv': venv)",
   "language": "python",
   "name": "python3"
  },
  "language_info": {
   "codemirror_mode": {
    "name": "ipython",
    "version": 3
   },
   "file_extension": ".py",
   "mimetype": "text/x-python",
   "name": "python",
   "nbconvert_exporter": "python",
   "pygments_lexer": "ipython3",
   "version": "3.8.3"
  },
  "vscode": {
   "interpreter": {
    "hash": "1c9d9ee7f3918883f5e2a73aeb78f4384156cad52fdb85b22fafcff091e1602b"
   }
  }
 },
 "nbformat": 4,
 "nbformat_minor": 5
}
